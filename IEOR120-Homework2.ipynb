{
 "cells": [
  {
   "cell_type": "markdown",
   "id": "fc2ebbcc",
   "metadata": {},
   "source": [
    "# INDENG 120: Homework 2\n",
    "## Due: Thursday, _____, 11:59 PM"
   ]
  },
  {
   "cell_type": "markdown",
   "id": "2ca6b8c3",
   "metadata": {},
   "source": [
    "### Welcome to INDENG 120 Homework 2!\n",
    "\n",
    "This homework covers:\n",
    "- Lecture 4: Financial Decision Making\n",
    "- Lecture 5: Arbitrage and The Law of One Price\n",
    "- Sections 3.1 - 3.3, 3.4 - 3.5\n",
    "\n",
    "Answers are in dollars ($) unless otherwise specified.\n",
    "\n",
    "Partial credit will be awarded for both logic and effort. \\\n",
    "*Grading will be completed via Gradescope.*\n",
    "\n",
    "<!-- In this notebook, you will learn how to:\n",
    " 1. Navigate Jupyter Notebooks (like this one)\n",
    " 2. Write and edit text and code cells\n",
    " 3. Use the `pandas` library \n",
    " 4. Load in data and manipulate it using `pandas` -->"
   ]
  },
  {
   "cell_type": "markdown",
   "id": "f195d90a",
   "metadata": {},
   "source": [
    "### Problem 1"
   ]
  },
  {
   "cell_type": "markdown",
   "id": "72c1707c",
   "metadata": {},
   "source": [
    "Honda Motor Company is considering offering a $\\$3000$ rebate on its minivan lowering the vehicle’s price from $\\$30,000$ to $\\$27,000$. The marketing group estimates that this rebate will increase sales over the next year from 40,000 to 60,000 vehicles. Suppose Honda’s profit margin with the rebate is $\\$5000$ per vehicle. If the change in sales is the only consequence of this decision:\n",
    "\n",
    "**Note:** Assign `q1a` and `q1b` to your numeric answers. They should be in the millions. Ex: `q1a = 10`."
   ]
  },
  {
   "cell_type": "markdown",
   "id": "09a847f1",
   "metadata": {},
   "source": [
    "(a) What are the benefits of the decision? (in millions)"
   ]
  },
  {
   "cell_type": "code",
   "execution_count": 26,
   "id": "75d0cdaa",
   "metadata": {},
   "outputs": [
    {
     "data": {
      "text/plain": [
       "Ellipsis"
      ]
     },
     "execution_count": 26,
     "metadata": {},
     "output_type": "execute_result"
    }
   ],
   "source": [
    "q1a = ...\n",
    "q1a"
   ]
  },
  {
   "cell_type": "markdown",
   "id": "647a2a91",
   "metadata": {},
   "source": [
    "(b) What are the costs of the decision? (in millions)"
   ]
  },
  {
   "cell_type": "code",
   "execution_count": 27,
   "id": "7fdfeff7",
   "metadata": {},
   "outputs": [
    {
     "data": {
      "text/plain": [
       "Ellipsis"
      ]
     },
     "execution_count": 27,
     "metadata": {},
     "output_type": "execute_result"
    }
   ],
   "source": [
    "q1b = ...\n",
    "q1b"
   ]
  },
  {
   "cell_type": "markdown",
   "id": "618035af",
   "metadata": {},
   "source": [
    "(c) Offering the rebate is a _________ idea. \n",
    "\n",
    "    1. Good\n",
    "    2. Bad\n",
    "\n",
    "**Note:** Assign `q1c` to your answer. Ex: `q1c = 1`."
   ]
  },
  {
   "cell_type": "code",
   "execution_count": 28,
   "id": "bdff9b04",
   "metadata": {},
   "outputs": [
    {
     "data": {
      "text/plain": [
       "Ellipsis"
      ]
     },
     "execution_count": 28,
     "metadata": {},
     "output_type": "execute_result"
    }
   ],
   "source": [
    "q1c = ...\n",
    "q1c"
   ]
  },
  {
   "cell_type": "markdown",
   "id": "bbb0f4ee",
   "metadata": {},
   "source": [
    "### Problem 2"
   ]
  },
  {
   "cell_type": "markdown",
   "id": "c4b9a6a2",
   "metadata": {},
   "source": [
    "You are an international shrimp trader. A food producer in the Czech Republic offers to pay\n",
    "you $2.5$ million Czech koruna today in exchange for a year’s supply of frozen shrimp. Your\n",
    "Thai supplier will provide the same supply for $3.0$ million Thai baht today. The current\n",
    "competitive market exchange rates are $20.00$ koruna per dollar and $33.25$ baht per dollar.\n",
    "(Round to the nearest cent)\n",
    "\n",
    "\n",
    "**Note:** Assign each variable to an answer. Ex: `q2a = 5,000`."
   ]
  },
  {
   "cell_type": "markdown",
   "id": "85836c50",
   "metadata": {},
   "source": [
    "(a) What is the Czech buyer’s offer?"
   ]
  },
  {
   "cell_type": "code",
   "execution_count": 29,
   "id": "9de4ffb6",
   "metadata": {},
   "outputs": [
    {
     "data": {
      "text/plain": [
       "Ellipsis"
      ]
     },
     "execution_count": 29,
     "metadata": {},
     "output_type": "execute_result"
    }
   ],
   "source": [
    "q2a = ...\n",
    "q2a"
   ]
  },
  {
   "cell_type": "markdown",
   "id": "27ddb539",
   "metadata": {},
   "source": [
    "(b) What is the Thai supplier’s offer?"
   ]
  },
  {
   "cell_type": "code",
   "execution_count": 30,
   "id": "38df7ae6",
   "metadata": {},
   "outputs": [
    {
     "data": {
      "text/plain": [
       "Ellipsis"
      ]
     },
     "execution_count": 30,
     "metadata": {},
     "output_type": "execute_result"
    }
   ],
   "source": [
    "q2b = ...\n",
    "q2b"
   ]
  },
  {
   "cell_type": "markdown",
   "id": "0a452fd2",
   "metadata": {},
   "source": [
    "(c) What is the value of the deal today?"
   ]
  },
  {
   "cell_type": "code",
   "execution_count": 31,
   "id": "a8543211",
   "metadata": {},
   "outputs": [
    {
     "data": {
      "text/plain": [
       "Ellipsis"
      ]
     },
     "execution_count": 31,
     "metadata": {},
     "output_type": "execute_result"
    }
   ],
   "source": [
    "q2c = ...\n",
    "q2c"
   ]
  },
  {
   "cell_type": "markdown",
   "id": "c25f51d7",
   "metadata": {},
   "source": [
    "### Problem 3\n",
    "Your company's stock is currently trading for $\\$50$ per share. Suppose your manager offers you a choice between a $ \\$4100$ bonus and 250 shares of the company stock to be awarded to you today. You may ignore transaction costs."
   ]
  },
  {
   "cell_type": "markdown",
   "id": "1d766a44",
   "metadata": {},
   "source": [
    "(a) Suppose that if you receive the stock bonus, you are free to trade it immediately. What is the value of the stock bonus and which bonus **(Cash / Stock)** should you choose?\n",
    "\n",
    "**Note:** Format your answer like `q3a_1 = 1000`."
   ]
  },
  {
   "cell_type": "code",
   "execution_count": 32,
   "id": "4c80687b",
   "metadata": {},
   "outputs": [
    {
     "data": {
      "text/plain": [
       "Ellipsis"
      ]
     },
     "execution_count": 32,
     "metadata": {},
     "output_type": "execute_result"
    }
   ],
   "source": [
    "q3a_1 = ...\n",
    "q3a_1"
   ]
  },
  {
   "cell_type": "markdown",
   "id": "6e835052",
   "metadata": {},
   "source": [
    "**Note:** Assign your answer as `q3a_2 = 'Cash'` or `q3a_2 = 'Stock'`."
   ]
  },
  {
   "cell_type": "code",
   "execution_count": 33,
   "id": "b4ee33a1",
   "metadata": {},
   "outputs": [
    {
     "data": {
      "text/plain": [
       "Ellipsis"
      ]
     },
     "execution_count": 33,
     "metadata": {},
     "output_type": "execute_result"
    }
   ],
   "source": [
    "q3a_2 = ...\n",
    "q3a_2"
   ]
  },
  {
   "cell_type": "markdown",
   "id": "1d39df08",
   "metadata": {},
   "source": [
    "(b) Suppose instead that if you receive the stock bonus, you are required to hold it for at least one year before selling it. What can you say about the value of the stock bonus now? **Select one.**\n",
    "\n",
    "1. Same as part (a)\n",
    "2. The stock bonus cannot be worth more than the value calculated in part (a), so you prefer the cash bonus.\n",
    "3. The stock bonus is worth more than the value calculated in part (a), so you still prefer the stock bonus.\n",
    "4. You cannot make a definite decision, but the stock bonus is likely not worth as much as the value calculated in part (a).\n",
    "\n",
    "**Note:** Format your answer like `q3b = 1`."
   ]
  },
  {
   "cell_type": "code",
   "execution_count": 34,
   "id": "606e4e2a",
   "metadata": {},
   "outputs": [
    {
     "data": {
      "text/plain": [
       "Ellipsis"
      ]
     },
     "execution_count": 34,
     "metadata": {},
     "output_type": "execute_result"
    }
   ],
   "source": [
    "q3b = ...\n",
    "q3b"
   ]
  },
  {
   "cell_type": "markdown",
   "id": "aaad33a2",
   "metadata": {},
   "source": [
    "(c) What will your decision depend on? **Select one.**\n",
    "\n",
    "1. The type of bonus your employer prefers.\n",
    "2. The market value of the stock today.\n",
    "3. The stock’s potential value in one year along with the risk involved.\n",
    "4. How well the company’s stock has done in the past year.\n",
    "\n",
    "**Note:** Format your answer like `q3c = 1`."
   ]
  },
  {
   "cell_type": "code",
   "execution_count": 35,
   "id": "470abdeb",
   "metadata": {},
   "outputs": [
    {
     "data": {
      "text/plain": [
       "Ellipsis"
      ]
     },
     "execution_count": 35,
     "metadata": {},
     "output_type": "execute_result"
    }
   ],
   "source": [
    "q3c = ...\n",
    "q3c"
   ]
  },
  {
   "cell_type": "markdown",
   "id": "13e9985e",
   "metadata": {},
   "source": [
    "### Problem 4\n",
    "Your firm has a risk-free investment opportunity where it can invest $\\$160,000$ today and receive $\\$175,000$ in one year. The project will be attractive when the interest rate is **(Less / Greater)** than or equal to _________$\\%$. (Round to two decimal places)\n",
    "\n",
    "**Note:** Assign your answer on the more attractive relative interest rate to `q4_2`.\n",
    "Format your answer as `q4_2 = 'Less'` or `q4_2 = 'Greater'`."
   ]
  },
  {
   "cell_type": "code",
   "execution_count": 36,
   "id": "f0d881a8",
   "metadata": {},
   "outputs": [
    {
     "data": {
      "text/plain": [
       "Ellipsis"
      ]
     },
     "execution_count": 36,
     "metadata": {},
     "output_type": "execute_result"
    }
   ],
   "source": [
    "q4_1 = ...\n",
    "q4_1"
   ]
  },
  {
   "cell_type": "markdown",
   "id": "51dcddb7",
   "metadata": {},
   "source": [
    "**Note:** Your answer should be a percentage between 0 and 100 *excluding* the $\\%$ sign. Format your answer like `q3a_1 = 50.00`."
   ]
  },
  {
   "cell_type": "code",
   "execution_count": 37,
   "id": "71a33297",
   "metadata": {},
   "outputs": [
    {
     "data": {
      "text/plain": [
       "Ellipsis"
      ]
     },
     "execution_count": 37,
     "metadata": {},
     "output_type": "execute_result"
    }
   ],
   "source": [
    "q4_2 = ...\n",
    "q4_2"
   ]
  },
  {
   "cell_type": "markdown",
   "id": "ff61ec72",
   "metadata": {},
   "source": [
    "### Problem 5"
   ]
  },
  {
   "cell_type": "markdown",
   "id": "0d32f635",
   "metadata": {},
   "source": [
    "Your construction firm has just won a contract to build a financial o\n",
    "\n",
    "ce building. Building it\n",
    "will take one year and require an investment of $\\$11$ million today and $\\$6$ million in one year.\n",
    "The financial company will pay you $\\$25$ million upon the building’s completion. Suppose\n",
    "the cash flows and their times of payment are certain, and the risk-free interest rate is 10%.\n",
    "\n",
    "\n"
   ]
  },
  {
   "cell_type": "markdown",
   "id": "9e63611a",
   "metadata": {},
   "source": [
    "(a) The NPV of this opportunity is $\\$$ ________________ million. "
   ]
  },
  {
   "cell_type": "code",
   "execution_count": 38,
   "id": "d381aa11",
   "metadata": {},
   "outputs": [
    {
     "data": {
      "text/plain": [
       "Ellipsis"
      ]
     },
     "execution_count": 38,
     "metadata": {},
     "output_type": "execute_result"
    }
   ],
   "source": [
    "q5a = ...\n",
    "q5a"
   ]
  },
  {
   "cell_type": "markdown",
   "id": "4556abc9",
   "metadata": {},
   "source": [
    "(b) How can your firm turn this NPV into cash today?"
   ]
  },
  {
   "cell_type": "markdown",
   "id": "b731dfcb",
   "metadata": {},
   "source": [
    "The firm can borrow $\\$$ **[ANSWER HERE]** today, and pay it back with 10$\\%$ interest using the $\\$$ **[ANSWER HERE]** it will receive from the financial company. The firm can use $\\$$ **[ANSWER HERE]** of the $\\$$ **[ANSWER HERE]** to cover its costs today and save $\\$$ **[ANSWER HERE]** in the bank to earn 11$\\%$ interest to cover its cost of $\\$$ **[ANSWER HERE]** next year. This leaves $\\$$ **[ANSWER HERE]** in cash for the firm today."
   ]
  },
  {
   "cell_type": "code",
   "execution_count": 39,
   "id": "5ff628e8",
   "metadata": {},
   "outputs": [
    {
     "data": {
      "text/plain": [
       "[Ellipsis, Ellipsis, Ellipsis, Ellipsis, Ellipsis, Ellipsis]"
      ]
     },
     "execution_count": 39,
     "metadata": {},
     "output_type": "execute_result"
    }
   ],
   "source": [
    "q5b = [..., ..., ..., ..., ..., ...]\n",
    "q5b"
   ]
  },
  {
   "cell_type": "markdown",
   "id": "d5c29606",
   "metadata": {},
   "source": [
    "### Problem 6"
   ]
  },
  {
   "cell_type": "markdown",
   "id": "f5b67c2c",
   "metadata": {},
   "source": [
    "You have an investment opportunity in Japan. It requires an investment of $\\$$1 million today\n",
    "and will produce a cash flow of ¥ 110 million in one year with no risk. Suppose the risk-free\n",
    "interest rate in the United States is 5$\\%$, the risk-free interest rate in Japan is 4.5$\\%$, and the\n",
    "current competitive exchange rate is ¥ 114 per $\\$$1."
   ]
  },
  {
   "cell_type": "markdown",
   "id": "b587602d",
   "metadata": {},
   "source": [
    "(a) The NPV of this investment is:"
   ]
  },
  {
   "cell_type": "code",
   "execution_count": 40,
   "id": "217ab9e9",
   "metadata": {},
   "outputs": [
    {
     "data": {
      "text/plain": [
       "Ellipsis"
      ]
     },
     "execution_count": 40,
     "metadata": {},
     "output_type": "execute_result"
    }
   ],
   "source": [
    "q6a = ...\n",
    "q6a"
   ]
  },
  {
   "cell_type": "markdown",
   "id": "56c55d5c",
   "metadata": {},
   "source": [
    "This investment is a (good/bad) opportunity. (Choose one)"
   ]
  },
  {
   "cell_type": "code",
   "execution_count": 41,
   "id": "3caeb791",
   "metadata": {},
   "outputs": [
    {
     "data": {
      "text/plain": [
       "'...'"
      ]
     },
     "execution_count": 41,
     "metadata": {},
     "output_type": "execute_result"
    }
   ],
   "source": [
    "q6b = \"...\"\n",
    "q6b"
   ]
  },
  {
   "cell_type": "markdown",
   "id": "b2be6b41",
   "metadata": {},
   "source": [
    "### Problem 7"
   ]
  },
  {
   "cell_type": "markdown",
   "id": "3f63390d",
   "metadata": {},
   "source": [
    "Your computer manufacturing firm must purchase 10,000 keyboards from a supplier. One supplier demands a payment of $\\$120,000$ dollars today plus $\\$10$ dollars per keyboard payable in one year. Another supplier will charge $\\$25$ dollars per keyboard, also payable in one year. The risk-free interest rate is $10\\%$."
   ]
  },
  {
   "cell_type": "markdown",
   "id": "3e67bcce",
   "metadata": {},
   "source": [
    "(a) What is the difference in their offers in terms of dollars today?\n",
    "\n",
    "**Note:** Format your answer like `q7a = 1000`."
   ]
  },
  {
   "cell_type": "code",
   "execution_count": 42,
   "id": "e11e3963",
   "metadata": {},
   "outputs": [
    {
     "data": {
      "text/plain": [
       "Ellipsis"
      ]
     },
     "execution_count": 42,
     "metadata": {},
     "output_type": "execute_result"
    }
   ],
   "source": [
    "q7a = ...\n",
    "q7a"
   ]
  },
  {
   "cell_type": "markdown",
   "id": "e6afef50",
   "metadata": {},
   "source": [
    "(b) Which Supplier's offer should your firm take? One or Two?\n",
    "\n",
    "**Note:** Assign your answer as `q7b = 'One'` or `q7b = 'Two'`."
   ]
  },
  {
   "cell_type": "code",
   "execution_count": 43,
   "id": "febcd1bf",
   "metadata": {},
   "outputs": [
    {
     "data": {
      "text/plain": [
       "Ellipsis"
      ]
     },
     "execution_count": 43,
     "metadata": {},
     "output_type": "execute_result"
    }
   ],
   "source": [
    "q7b = ...\n",
    "q7b"
   ]
  },
  {
   "cell_type": "markdown",
   "id": "debdbfff",
   "metadata": {},
   "source": [
    "(c) Suppose your firm does not want to spend cash today. How can it take the first offer and not spend $\\$120,000$ of its own cash today? **Select one.**\n",
    "\n",
    "1. It can’t\n",
    "2. It can try to negotiate\n",
    "3. It can borrow the required payment today at $10\\%$.\n",
    "4. It can borrow the required payment today at $9\\%$.\n",
    "\n",
    "**Note:** Format your answer like `q7c = 1`."
   ]
  },
  {
   "cell_type": "code",
   "execution_count": 44,
   "id": "5e660028",
   "metadata": {},
   "outputs": [
    {
     "data": {
      "text/plain": [
       "Ellipsis"
      ]
     },
     "execution_count": 44,
     "metadata": {},
     "output_type": "execute_result"
    }
   ],
   "source": [
    "q7c = ...\n",
    "q7c"
   ]
  },
  {
   "cell_type": "markdown",
   "id": "f7a00436",
   "metadata": {},
   "source": [
    "### *Optional Bonus Problem 8 - Create and Solve*"
   ]
  },
  {
   "cell_type": "markdown",
   "id": "b2c7f8fd",
   "metadata": {},
   "source": [
    "Directions: For this problem, choose a topic covered during for this problem set “period”, design a question, and then solve it. The question and solution must be written by you and be uniquely yours.\n",
    "\n",
    "However, you may use the textbook, the class material, the internet, or any other resource you want for inspiration. Make sure you cite your inspirational sources or declare that there are none.\n",
    "\n",
    "Required Components:\n",
    "- Inspiration statement\n",
    "- Question\n",
    "- Statement"
   ]
  },
  {
   "cell_type": "markdown",
   "id": "0fa6a8e9",
   "metadata": {},
   "source": [
    "*Double click to edit!*"
   ]
  }
 ],
 "metadata": {
  "kernelspec": {
   "display_name": "Python 3 (ipykernel)",
   "language": "python",
   "name": "python3"
  },
  "language_info": {
   "codemirror_mode": {
    "name": "ipython",
    "version": 3
   },
   "file_extension": ".py",
   "mimetype": "text/x-python",
   "name": "python",
   "nbconvert_exporter": "python",
   "pygments_lexer": "ipython3",
   "version": "3.9.15"
  }
 },
 "nbformat": 4,
 "nbformat_minor": 5
}
