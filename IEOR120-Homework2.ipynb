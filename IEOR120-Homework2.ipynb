{
 "cells": [
  {
   "cell_type": "markdown",
   "id": "fc2ebbcc",
   "metadata": {},
   "source": [
    "# INDENG 120: Homework 2\n",
    "## Due: Thursday, _____, 11:59 PM"
   ]
  },
  {
   "cell_type": "markdown",
   "id": "2ca6b8c3",
   "metadata": {},
   "source": [
    "### Welcome to INDENG 120 Homework 2!\n",
    "\n",
    "This homework covers:\n",
    "- Lecture 4: Financial Decision Making\n",
    "- Lecture 5: Arbitrage and The Law of One Price\n",
    "- Sections 3.1 - 3.3, 3.4 - 3.5\n",
    "\n",
    "Partial credit will be awarded for both logic and effort. \\\n",
    "*Grading will be completed via Gradescope.*\n",
    "\n",
    "<!-- In this notebook, you will learn how to:\n",
    " 1. Navigate Jupyter Notebooks (like this one)\n",
    " 2. Write and edit text and code cells\n",
    " 3. Use the `pandas` library \n",
    " 4. Load in data and manipulate it using `pandas` -->"
   ]
  },
  {
   "cell_type": "markdown",
   "id": "f195d90a",
   "metadata": {},
   "source": [
    "### Problem 1"
   ]
  },
  {
   "cell_type": "markdown",
   "id": "72c1707c",
   "metadata": {},
   "source": [
    "Honda Motor Company is considering offering a $\\$3000$ rebate on its minivan lowering the\n",
    "vehicle’s price from $\\$30,000$ to $\\$27,000$. The marketing group estimates that this rebate will\n",
    "increase sales over the next year from 40,000 to 60,000 vehicles. Suppose Honda’s profit\n",
    "margin with the rebate is $\\$5000$ per vehicle. If the change in sales is the only consequence\n",
    "of this decision:\n",
    "\n",
    "(a) What are the benefits of the decision?\n",
    "\n",
    "Assign `q1a` to your answer to (a)\n",
    "\n"
   ]
  },
  {
   "cell_type": "code",
   "execution_count": null,
   "id": "75d0cdaa",
   "metadata": {},
   "outputs": [],
   "source": [
    "q1a = ..\n",
    "q1a"
   ]
  },
  {
   "cell_type": "markdown",
   "id": "647a2a91",
   "metadata": {},
   "source": [
    "(b) What are the costs of the decision?\n",
    "\n",
    "Assign `q1b` to your answer (b)"
   ]
  },
  {
   "cell_type": "code",
   "execution_count": null,
   "id": "7fdfeff7",
   "metadata": {},
   "outputs": [],
   "source": [
    "q1b = ...\n",
    "q1b"
   ]
  },
  {
   "cell_type": "markdown",
   "id": "618035af",
   "metadata": {},
   "source": [
    "(c) Offering the rebate is a ___ idea. \n",
    "\n",
    "    A. good\n",
    "    B. bad\n",
    "\n",
    "Assign `q1c` to 'A' or 'B'"
   ]
  },
  {
   "cell_type": "code",
   "execution_count": null,
   "id": "bdff9b04",
   "metadata": {},
   "outputs": [],
   "source": [
    "q1c = ...\n",
    "q1c"
   ]
  },
  {
   "cell_type": "markdown",
   "id": "bbb0f4ee",
   "metadata": {},
   "source": [
    "### Problem 2"
   ]
  },
  {
   "cell_type": "markdown",
   "id": "c4b9a6a2",
   "metadata": {},
   "source": [
    "You are an international shrimp trader. A food producer in the Czech Republic offers to pay\n",
    "you $2.5$ million Czech koruna today in exchange for a year’s supply of frozen shrimp. Your\n",
    "Thai supplier will provide the same supply for $3.0$ million Thai baht today. The current\n",
    "competitive market exchange rates are $20.00$ koruna per dollar and $33.25$ baht per dollar.\n",
    "(Round to the nearest cent)"
   ]
  },
  {
   "cell_type": "markdown",
   "id": "85836c50",
   "metadata": {},
   "source": [
    "(a) What is the Czech buyer’s offer?\n",
    "\n",
    "Assign `q2a` to your answer to (a)"
   ]
  },
  {
   "cell_type": "code",
   "execution_count": null,
   "id": "9de4ffb6",
   "metadata": {},
   "outputs": [],
   "source": [
    "q2a = ...\n",
    "q2a"
   ]
  },
  {
   "cell_type": "markdown",
   "id": "27ddb539",
   "metadata": {},
   "source": [
    "(b) What is the Thai supplier’s offer?\n",
    "\n",
    "Assign `q2b` to your answer to (b)"
   ]
  },
  {
   "cell_type": "code",
   "execution_count": null,
   "id": "38df7ae6",
   "metadata": {},
   "outputs": [],
   "source": [
    "q2b = ...\n",
    "q2b"
   ]
  },
  {
   "cell_type": "markdown",
   "id": "0a452fd2",
   "metadata": {},
   "source": [
    "(c) What is the value of the deal today?\n",
    "\n",
    "Assign `q2c` to your answer to (c)"
   ]
  },
  {
   "cell_type": "code",
   "execution_count": null,
   "id": "a8543211",
   "metadata": {},
   "outputs": [],
   "source": [
    "q2c = ...\n",
    "q2c"
   ]
  },
  {
   "cell_type": "markdown",
   "id": "c25f51d7",
   "metadata": {},
   "source": [
    "### Problem 3\n",
    "Your company's stock is currently trading for $\\$50$ per share. Suppose your manager offers you a choice between a $ \\$4100$ bonus and $ \\$250$ shares of the company stock to be awarded to you today. You may ignore transaction costs.\n",
    "\n",
    "(a) Suppose that if you receive the stock bonus, you are free to trade it immediately. What is the value of the stock bonus, and which should you select?"
   ]
  },
  {
   "cell_type": "code",
   "execution_count": null,
   "id": "2a07970b",
   "metadata": {},
   "outputs": [],
   "source": [
    "#What is the value of the stock bonus?\n",
    "q3a1 = ...\n",
    "#So you should choose ('cash'/'stock') bonus?\n",
    "q3a2 = ..."
   ]
  },
  {
   "cell_type": "markdown",
   "id": "1d39df08",
   "metadata": {},
   "source": [
    "(b) Suppose instead that if you receive the stock bonus, you are required to hold it for at least one year before selling it. What can you say about the value of the stock bonus now?Select one. \n",
    "\n",
    "1. Same as part (a)\n",
    "2. The stock bonus cannot be worth more than the value calculated in part (a), so you prefer the cash bonus.\n",
    "3. The stock bonus is worth more than the value calculated in part (a), so you still prefer the stock bonus.\n",
    "4. You cannot make a definite decision, but the stock bonus is likely not worth as much as the value calculated in part (a).\n",
    "\n",
    "Assign `q3b` to value `1, 2, 3` or `4`."
   ]
  },
  {
   "cell_type": "code",
   "execution_count": null,
   "id": "606e4e2a",
   "metadata": {},
   "outputs": [],
   "source": [
    "q3b = ..."
   ]
  },
  {
   "cell_type": "markdown",
   "id": "aaad33a2",
   "metadata": {},
   "source": [
    "(c) What will your decision depend on? Select one.\n",
    "1. The type of bonus your employer prefers.\n",
    "2. The market value of the stock today.\n",
    "3. The stock’s potential value in one year along with the risk involved.\n",
    "4. How well the company’s stock has done in the past year.\n",
    "Assign `q3c` to value `1, 2, 3` or `4`"
   ]
  },
  {
   "cell_type": "code",
   "execution_count": null,
   "id": "470abdeb",
   "metadata": {},
   "outputs": [],
   "source": [
    "q3c = ..."
   ]
  },
  {
   "cell_type": "markdown",
   "id": "13e9985e",
   "metadata": {},
   "source": [
    "### Problem 4\n",
    "Your firm has a risk-free investment opportunity where it can invest $\\$160,000$ today and receive $\\$175,000$ in one year. The project will be attractive when the interest rate is (less/greater) than or equal to _______ $\\%$. (Round to two decimal places)"
   ]
  },
  {
   "cell_type": "code",
   "execution_count": null,
   "id": "ae71e860",
   "metadata": {},
   "outputs": [],
   "source": [
    "#assign q4a to 'less' or 'greater'\n",
    "q4a = ...\n",
    "#assign q4b to a two decimal place float (do not include the % sign)\n",
    "q4b = ..."
   ]
  },
  {
   "cell_type": "markdown",
   "id": "ff61ec72",
   "metadata": {},
   "source": [
    "### Problem 5"
   ]
  },
  {
   "cell_type": "code",
   "execution_count": 5,
   "id": "617e4509",
   "metadata": {},
   "outputs": [],
   "source": [
    "# Double click to edit\n",
    "# Press M on the cell to change to Markdown"
   ]
  },
  {
   "cell_type": "markdown",
   "id": "1b23ddc0",
   "metadata": {},
   "source": [
    "### Problem 6"
   ]
  },
  {
   "cell_type": "code",
   "execution_count": 6,
   "id": "9c346ae7",
   "metadata": {},
   "outputs": [],
   "source": [
    "# Double click to edit\n",
    "# Press M on the cell to change to Markdown"
   ]
  },
  {
   "cell_type": "markdown",
   "id": "b2be6b41",
   "metadata": {},
   "source": [
    "### Problem 7"
   ]
  },
  {
   "cell_type": "markdown",
   "id": "3f63390d",
   "metadata": {},
   "source": [
    "Your computer manufacturing firm must purchase 10,000 keyboards from a supplier. One\n",
    "supplier demands a payment of <b>120,000 dollars</b> today plus <b>10 dollars</b> per keyboard payable in one year. Another supplier will charge <b>25 dollars</b> per keyboard, also payable in one year. The risk-free interest rate is <b>10%</b>"
   ]
  },
  {
   "cell_type": "markdown",
   "id": "3e67bcce",
   "metadata": {},
   "source": [
    "(a) The difference in their offers in terms of dollars today is"
   ]
  },
  {
   "cell_type": "code",
   "execution_count": 1,
   "id": "e11e3963",
   "metadata": {},
   "outputs": [],
   "source": [
    "# Write your code and record your solution \n",
    "result_a = ..."
   ]
  },
  {
   "cell_type": "markdown",
   "id": "e6afef50",
   "metadata": {},
   "source": [
    "(b) Your firm should take Supplier (One/Two). (Circle one)."
   ]
  },
  {
   "cell_type": "code",
   "execution_count": null,
   "id": "febcd1bf",
   "metadata": {},
   "outputs": [],
   "source": [
    "option_b = ..."
   ]
  },
  {
   "cell_type": "markdown",
   "id": "092ddeb1",
   "metadata": {},
   "source": [
    "(c) Suppose your firm does not want to spend cash today. How can it take the first offer\n",
    "and not spend <b>120,000 dollars</b> of its own cash today?\n",
    "><br>\n",
    "(i) It can’t\n",
    "<br>\n",
    "(ii) It can try to negotiate\n",
    "<br>\n",
    "(iii) It can borrow the required payment today at 10%\n",
    "<br>\n",
    "(iv) It can borrow the required payment today at 9%\n",
    "<br>"
   ]
  },
  {
   "cell_type": "code",
   "execution_count": 2,
   "id": "2f85c373",
   "metadata": {},
   "outputs": [],
   "source": [
    "option_c = ..."
   ]
  },
  {
   "cell_type": "markdown",
   "id": "f7a00436",
   "metadata": {},
   "source": [
    "### *Optional Bonus Problem 8 - Create and Solve*"
   ]
  },
  {
   "cell_type": "code",
   "execution_count": 8,
   "id": "f19be1e0",
   "metadata": {},
   "outputs": [],
   "source": [
    "# Double click to edit\n",
    "# Press M on the cell to change to Markdown"
   ]
  }
 ],
 "metadata": {
  "kernelspec": {
   "display_name": "Python 3 (ipykernel)",
   "language": "python",
   "name": "python3"
  },
  "language_info": {
   "codemirror_mode": {
    "name": "ipython",
    "version": 3
   },
   "file_extension": ".py",
   "mimetype": "text/x-python",
   "name": "python",
   "nbconvert_exporter": "python",
   "pygments_lexer": "ipython3",
   "version": "3.9.15"
  }
 },
 "nbformat": 4,
 "nbformat_minor": 5
}
