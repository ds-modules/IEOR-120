{
 "cells": [
  {
   "cell_type": "markdown",
   "id": "fc2ebbcc",
   "metadata": {},
   "source": [
    "# INDENG 120: Homework 5\n",
    "## Due: Thursday, _____, 11:59 PM"
   ]
  },
  {
   "cell_type": "markdown",
   "id": "2ca6b8c3",
   "metadata": {},
   "source": [
    "### Welcome to INDENG 120 Homework 5!\n",
    "\n",
    "This homework covers:\n",
    "- Lecture 11: Bond Pricing I\n",
    "- Lecture 12: Bond Pricing II\n",
    "- Sections:  6.1 - 6.3, 6.4 - 6.5\n",
    "\n",
    "Partial credit will be awarded for both logic and effort. \\\n",
    "*Grading will be completed via Gradescope.*\n",
    "\n",
    "<!-- In this notebook, you will learn how to:\n",
    " 1. Navigate Jupyter Notebooks (like this one)\n",
    " 2. Write and edit text and code cells\n",
    " 3. Use the `pandas` library \n",
    " 4. Load in data and manipulate it using `pandas` -->"
   ]
  },
  {
   "cell_type": "markdown",
   "id": "f195d90a",
   "metadata": {},
   "source": [
    "### Problem 1"
   ]
  },
  {
   "cell_type": "markdown",
   "id": "efc6ea6d",
   "metadata": {},
   "source": [
    "Suppose you invest $\\$105$ in a bank account, and five years later it has grown to $\\$135.09$.\n",
    "\n",
    "(a) What APR did you receive, if the interest was compounded semiannually?\n",
    "\n",
    "First, calculate EAR."
   ]
  },
  {
   "cell_type": "code",
   "execution_count": null,
   "id": "6240f31d",
   "metadata": {},
   "outputs": [],
   "source": [
    "q1a_EAR = ...\n",
    "q1a_EAR"
   ]
  },
  {
   "cell_type": "markdown",
   "id": "cd842df7",
   "metadata": {},
   "source": [
    "Assign `q1a_APR` to your final answer."
   ]
  },
  {
   "cell_type": "code",
   "execution_count": null,
   "id": "ce7fcea8",
   "metadata": {},
   "outputs": [],
   "source": [
    "q1a_APR = ...\n",
    "q1a_APR"
   ]
  },
  {
   "cell_type": "markdown",
   "id": "f4d021f8",
   "metadata": {},
   "source": [
    "(b) What APR did you receive if the interest was compounded monthly?\n",
    "\n",
    "Assign `q1b` to your answer."
   ]
  },
  {
   "cell_type": "code",
   "execution_count": null,
   "id": "b291a9e7",
   "metadata": {},
   "outputs": [],
   "source": [
    "q1b = ...\n",
    "q1b"
   ]
  },
  {
   "cell_type": "markdown",
   "id": "bbb0f4ee",
   "metadata": {},
   "source": [
    "### Problem 2"
   ]
  },
  {
   "cell_type": "markdown",
   "id": "89ffa1c8",
   "metadata": {},
   "source": [
    "Bank of the West is advertising a 60-month, 6.18% APR auto loan. If you need to borrow\n",
    "$7,000 to purchase your dream Tesla, what will your monthly payment be?\n",
    "\n",
    "First, find the discount rate."
   ]
  },
  {
   "cell_type": "code",
   "execution_count": null,
   "id": "f8ae0e07",
   "metadata": {},
   "outputs": [],
   "source": [
    "q2_discount = ...\n",
    "q2_discount"
   ]
  },
  {
   "cell_type": "markdown",
   "id": "1d706e0a",
   "metadata": {},
   "source": [
    "Now, calculate the monthly payment. \n",
    "\n",
    "Assign `q2` to your final answer."
   ]
  },
  {
   "cell_type": "code",
   "execution_count": null,
   "id": "c607c815",
   "metadata": {},
   "outputs": [],
   "source": [
    "q2 = ...\n",
    "q2"
   ]
  },
  {
   "cell_type": "markdown",
   "id": "c25f51d7",
   "metadata": {},
   "source": [
    "### Problem 3"
   ]
  },
  {
   "cell_type": "code",
   "execution_count": 3,
   "id": "2a07970b",
   "metadata": {},
   "outputs": [],
   "source": [
    "# Double click to edit\n",
    "# Press M on the cell to change to Markdown"
   ]
  },
  {
   "cell_type": "markdown",
   "id": "13e9985e",
   "metadata": {},
   "source": [
    "### Problem 4"
   ]
  },
  {
   "cell_type": "code",
   "execution_count": 4,
   "id": "ae71e860",
   "metadata": {},
   "outputs": [],
   "source": [
    "# Double click to edit\n",
    "# Press M on the cell to change to Markdown"
   ]
  },
  {
   "cell_type": "markdown",
   "id": "ff61ec72",
   "metadata": {},
   "source": [
    "### Problem 5"
   ]
  },
  {
   "cell_type": "code",
   "execution_count": 5,
   "id": "617e4509",
   "metadata": {},
   "outputs": [],
   "source": [
    "# Double click to edit\n",
    "# Press M on the cell to change to Markdown"
   ]
  },
  {
   "cell_type": "markdown",
   "id": "1b23ddc0",
   "metadata": {},
   "source": [
    "### Problem 6"
   ]
  },
  {
   "cell_type": "code",
   "execution_count": 6,
   "id": "9c346ae7",
   "metadata": {},
   "outputs": [],
   "source": [
    "# Double click to edit\n",
    "# Press M on the cell to change to Markdown"
   ]
  },
  {
   "cell_type": "markdown",
   "id": "b2be6b41",
   "metadata": {},
   "source": [
    "### Problem 7"
   ]
  },
  {
   "cell_type": "code",
   "execution_count": 7,
   "id": "74eb69fa",
   "metadata": {},
   "outputs": [],
   "source": [
    "# Double click to edit\n",
    "# Press M on the cell to change to Markdown"
   ]
  },
  {
   "cell_type": "markdown",
   "id": "86cc3d93",
   "metadata": {},
   "source": [
    "### Problem 8"
   ]
  },
  {
   "cell_type": "code",
   "execution_count": 8,
   "id": "278c7710",
   "metadata": {},
   "outputs": [],
   "source": [
    "# Double click to edit\n",
    "# Press M on the cell to change to Markdown"
   ]
  },
  {
   "cell_type": "markdown",
   "id": "f7a00436",
   "metadata": {},
   "source": [
    "### *Optional Bonus Problem 9 - Create and Solve*"
   ]
  },
  {
   "cell_type": "code",
   "execution_count": 9,
   "id": "f19be1e0",
   "metadata": {},
   "outputs": [],
   "source": [
    "# Double click to edit\n",
    "# Press M on the cell to change to Markdown"
   ]
  }
 ],
 "metadata": {
  "kernelspec": {
   "display_name": "Python 3 (ipykernel)",
   "language": "python",
   "name": "python3"
  },
  "language_info": {
   "codemirror_mode": {
    "name": "ipython",
    "version": 3
   },
   "file_extension": ".py",
   "mimetype": "text/x-python",
   "name": "python",
   "nbconvert_exporter": "python",
   "pygments_lexer": "ipython3",
   "version": "3.9.15"
  }
 },
 "nbformat": 4,
 "nbformat_minor": 5
}
