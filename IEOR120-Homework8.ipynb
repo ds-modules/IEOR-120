{
 "cells": [
  {
   "cell_type": "markdown",
   "id": "fc2ebbcc",
   "metadata": {},
   "source": [
    "# INDENG 120: Homework 8\n",
    "## Due: Thursday, _____, 11:59 PM"
   ]
  },
  {
   "cell_type": "markdown",
   "id": "2ca6b8c3",
   "metadata": {},
   "source": [
    "### Welcome to INDENG 120 Homework 8!\n",
    "\n",
    "This homework covers:\n",
    "**DOUBLE CHECK TODO**\n",
    "- ????\n",
    "\n",
    "Partial credit will be awarded for both logic and effort. \\\n",
    "*Grading will be completed via Gradescope.*\n",
    "\n",
    "<!-- In this notebook, you will learn how to:\n",
    " 1. Navigate Jupyter Notebooks (like this one)\n",
    " 2. Write and edit text and code cells\n",
    " 3. Use the `pandas` library \n",
    " 4. Load in data and manipulate it using `pandas` -->"
   ]
  },
  {
   "cell_type": "markdown",
   "id": "f195d90a",
   "metadata": {},
   "source": [
    "### Problem 1"
   ]
  },
  {
   "cell_type": "markdown",
   "id": "c341cae4",
   "metadata": {},
   "source": [
    "Kokomochi is considering the launch of an advertising campaign for its latest dessert product, the Mini Mochi Munch. Kokomochi plans to spend $\\$3.17$ million on advertising this year for the campaign. The ads are expected to boost sales of the Mini Mochi Munch by $\\$11.05$ million this year and by $\\$9.08$ million next year. In addition, sales of other products are expected to rise by $\\$2.63$ million each year.\n",
    "Kokomochi’s gross profit margin for the Mini Mochi Munch is $32$\\%, and its gross profit margin averages $25$\\% for all other products. The company’s marginal corporate tax rate is $40$\\% both this year and next year. What are the year 1 and year 2 incremental earnings associated with the advertising campaign?\n",
    "\n",
    "*Assign each variable to your answer accordingly*"
   ]
  },
  {
   "cell_type": "code",
   "execution_count": null,
   "id": "aac2dae1",
   "metadata": {},
   "outputs": [],
   "source": [
    "year1_gross_profit = ...\n",
    "year1_gross_profit"
   ]
  },
  {
   "cell_type": "code",
   "execution_count": null,
   "id": "d82bf6ea",
   "metadata": {},
   "outputs": [],
   "source": [
    "year1_EBIT = ...\n",
    "year1_EBIT"
   ]
  },
  {
   "cell_type": "code",
   "execution_count": null,
   "id": "2c963176",
   "metadata": {},
   "outputs": [],
   "source": [
    "year1_incremental_earnings = ...\n",
    "year1_incremental_earnings"
   ]
  },
  {
   "cell_type": "code",
   "execution_count": null,
   "id": "f3a2f375",
   "metadata": {},
   "outputs": [],
   "source": [
    "year2_gross_profit = ...\n",
    "year2_gross_profit"
   ]
  },
  {
   "cell_type": "code",
   "execution_count": null,
   "id": "d0e15095",
   "metadata": {},
   "outputs": [],
   "source": [
    "year2_EBIT = ...\n",
    "year2_EBIT"
   ]
  },
  {
   "cell_type": "code",
   "execution_count": null,
   "id": "b699a661",
   "metadata": {},
   "outputs": [],
   "source": [
    "year2_incremental_earnings = ...\n",
    "year2_incremental_earnings"
   ]
  },
  {
   "cell_type": "markdown",
   "id": "bbb0f4ee",
   "metadata": {},
   "source": [
    "### Problem 2"
   ]
  },
  {
   "cell_type": "markdown",
   "id": "e0d589b4",
   "metadata": {},
   "source": [
    "Hyperion, Inc. currently sells its latest high-speed color printer, the Hyper 500, for $\\$350$. It plans to lower the price to $\\$303$ next year. Its cost of goods sold for the Hyper 500 is $\\$210$ per unit, and this year’s sales are expected to be $21,150$ units.\n",
    "\n",
    "(a) Suppose that if Hyperion drops the price to $\\$303$ immediately, rather than waiting\n",
    "a year, it can increase this year’s sales by $30$\\% to $27495$ units. What would be the incremental impact on this year’s EBIT of such a price drop? In other words, what would the change in this year’s EBIT would be?\n",
    "\n",
    "*Assign q2a to your answer*"
   ]
  },
  {
   "cell_type": "code",
   "execution_count": null,
   "id": "57ef9252",
   "metadata": {},
   "outputs": [],
   "source": [
    "q2a = ...\n",
    "q2a"
   ]
  },
  {
   "cell_type": "markdown",
   "id": "9d8ff776",
   "metadata": {},
   "source": [
    "(b) Suppose that for each printer sold, Hyperion expects additional sales of $\\$51$ per year on ink cartridges for the next years, and Hyperion has a gross profit margin of $75$\\% on ink cartridges. What is the incremental impact on EBIT for the next three years of a price drop this year?\n",
    "\n",
    "    (i) The change in EBIT from ink cartridge sales will be:"
   ]
  },
  {
   "cell_type": "code",
   "execution_count": null,
   "id": "48c58be4",
   "metadata": {},
   "outputs": [],
   "source": [
    "q2bi = ...\n",
    "q2bi"
   ]
  },
  {
   "cell_type": "markdown",
   "id": "b6a03c7f",
   "metadata": {},
   "source": [
    "    (ii) The change in EBIT year 1 will be:"
   ]
  },
  {
   "cell_type": "code",
   "execution_count": null,
   "id": "ba979dbd",
   "metadata": {},
   "outputs": [],
   "source": [
    "q2bii = ...\n",
    "q2bii"
   ]
  },
  {
   "cell_type": "markdown",
   "id": "7d558a31",
   "metadata": {},
   "source": [
    "    (iii) The change in EBIT year 2 will be:"
   ]
  },
  {
   "cell_type": "code",
   "execution_count": null,
   "id": "d8d688e1",
   "metadata": {},
   "outputs": [],
   "source": [
    "q2biii = ...\n",
    "q2biii"
   ]
  },
  {
   "cell_type": "markdown",
   "id": "c0bd4e0e",
   "metadata": {},
   "source": [
    "    (iv) The change in EBIT year 3 will be:"
   ]
  },
  {
   "cell_type": "code",
   "execution_count": null,
   "id": "fd3ad584",
   "metadata": {},
   "outputs": [],
   "source": [
    "q2biv = ...\n",
    "q2biv"
   ]
  },
  {
   "cell_type": "markdown",
   "id": "c25f51d7",
   "metadata": {},
   "source": [
    "### Problem 3"
   ]
  },
  {
   "cell_type": "code",
   "execution_count": 5,
   "id": "a5f78919",
   "metadata": {},
   "outputs": [],
   "source": [
    "# Double click to edit\n",
    "# Press M on the cell to change to Markdown"
   ]
  },
  {
   "cell_type": "markdown",
   "id": "13e9985e",
   "metadata": {},
   "source": [
    "### Problem 4"
   ]
  },
  {
   "cell_type": "code",
   "execution_count": 5,
   "id": "f080a50b",
   "metadata": {},
   "outputs": [],
   "source": [
    "# Double click to edit\n",
    "# Press M on the cell to change to Markdown"
   ]
  },
  {
   "cell_type": "markdown",
   "id": "ff61ec72",
   "metadata": {},
   "source": [
    "### Problem 5"
   ]
  },
  {
   "cell_type": "code",
   "execution_count": 5,
   "id": "617e4509",
   "metadata": {},
   "outputs": [],
   "source": [
    "# Double click to edit\n",
    "# Press M on the cell to change to Markdown"
   ]
  },
  {
   "cell_type": "markdown",
   "id": "1b23ddc0",
   "metadata": {},
   "source": [
    "### Problem 6"
   ]
  },
  {
   "cell_type": "code",
   "execution_count": 6,
   "id": "9c346ae7",
   "metadata": {},
   "outputs": [],
   "source": [
    "# Double click to edit\n",
    "# Press M on the cell to change to Markdown"
   ]
  },
  {
   "cell_type": "markdown",
   "id": "b2be6b41",
   "metadata": {},
   "source": [
    "### Problem 7"
   ]
  },
  {
   "cell_type": "code",
   "execution_count": 7,
   "id": "74eb69fa",
   "metadata": {},
   "outputs": [],
   "source": [
    "# Double click to edit\n",
    "# Press M on the cell to change to Markdown"
   ]
  },
  {
   "cell_type": "markdown",
   "id": "f7a00436",
   "metadata": {},
   "source": [
    "### *Optional Bonus Problem 8 - Create and Solve*"
   ]
  },
  {
   "cell_type": "code",
   "execution_count": 9,
   "id": "f19be1e0",
   "metadata": {},
   "outputs": [],
   "source": [
    "# Double click to edit\n",
    "# Press M on the cell to change to Markdown"
   ]
  }
 ],
 "metadata": {
  "kernelspec": {
   "display_name": "Python 3 (ipykernel)",
   "language": "python",
   "name": "python3"
  },
  "language_info": {
   "codemirror_mode": {
    "name": "ipython",
    "version": 3
   },
   "file_extension": ".py",
   "mimetype": "text/x-python",
   "name": "python",
   "nbconvert_exporter": "python",
   "pygments_lexer": "ipython3",
   "version": "3.9.15"
  }
 },
 "nbformat": 4,
 "nbformat_minor": 5
}
