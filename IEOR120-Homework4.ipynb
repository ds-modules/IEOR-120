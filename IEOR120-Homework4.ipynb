{
 "cells": [
  {
   "cell_type": "markdown",
   "id": "fc2ebbcc",
   "metadata": {},
   "source": [
    "# INDENG 120: Homework 4\n",
    "## Due: Thursday, _____, 11:59 PM"
   ]
  },
  {
   "cell_type": "markdown",
   "id": "2ca6b8c3",
   "metadata": {},
   "source": [
    "### Welcome to INDENG 120 Homework 4!\n",
    "\n",
    "This homework covers:\n",
    "- Lecture 9: Interest Rates \n",
    "- Lecture 10: Risk, Taxes, and Opportunity Cost\n",
    "- Sections: 5.1 - 5.3, 5.4 - 5.5\n",
    "\n",
    "Partial credit will be awarded for both logic and effort. \\\n",
    "*Grading will be completed via Gradescope.*\n",
    "\n",
    "<!-- In this notebook, you will learn how to:\n",
    " 1. Navigate Jupyter Notebooks (like this one)\n",
    " 2. Write and edit text and code cells\n",
    " 3. Use the `pandas` library \n",
    " 4. Load in data and manipulate it using `pandas` -->"
   ]
  },
  {
   "cell_type": "markdown",
   "id": "f195d90a",
   "metadata": {},
   "source": [
    "### Problem 1"
   ]
  },
  {
   "cell_type": "markdown",
   "id": "c7bd5a84",
   "metadata": {},
   "source": [
    "You have been offered a unique investment opportunity. If you invest $\\$10,000$ today,\n",
    "you will receive $\\$1,000$ one year from now, $\\$1,500$ two years from now, and $\\$12,000$\n",
    "ten years from now.\n",
    "\n",
    "(a) What is the NPV of the opportunity if the interest rate is 6\\% per year?\n",
    "\n",
    "Assign `q1a_1` to your answer."
   ]
  },
  {
   "cell_type": "code",
   "execution_count": null,
   "id": "66bff4f8",
   "metadata": {},
   "outputs": [],
   "source": [
    "q1a_1 = ...\n",
    "q1a_1"
   ]
  },
  {
   "cell_type": "markdown",
   "id": "b31d06ad",
   "metadata": {},
   "source": [
    "Should you take the deal? \n",
    "\n",
    "A. Yes\n",
    "\n",
    "B. No\n",
    "\n",
    "Assign `q1a_2` to your answer."
   ]
  },
  {
   "cell_type": "code",
   "execution_count": null,
   "id": "b3846176",
   "metadata": {},
   "outputs": [],
   "source": [
    "q1a_2 = ...\n",
    "q1a_2"
   ]
  },
  {
   "cell_type": "markdown",
   "id": "7ddf5017",
   "metadata": {},
   "source": [
    "(b) What is the NPV of the opportunity if the interest rate is 2\\% per year?\n",
    "\n",
    "Assign `q1b_1` to your answer."
   ]
  },
  {
   "cell_type": "code",
   "execution_count": null,
   "id": "49e649d3",
   "metadata": {},
   "outputs": [],
   "source": [
    "q1b_1 = ...\n",
    "q1b_1"
   ]
  },
  {
   "cell_type": "markdown",
   "id": "09f597b0",
   "metadata": {},
   "source": [
    "Should you take the deal? \n",
    "\n",
    "A. Yes\n",
    "\n",
    "B. No\n",
    "\n",
    "Assign `q1b_2` to your answer."
   ]
  },
  {
   "cell_type": "code",
   "execution_count": 1,
   "id": "0fe7cea5",
   "metadata": {},
   "outputs": [
    {
     "data": {
      "text/plain": [
       "Ellipsis"
      ]
     },
     "execution_count": 1,
     "metadata": {},
     "output_type": "execute_result"
    }
   ],
   "source": [
    "q1b_2 = ...\n",
    "q1b_2"
   ]
  },
  {
   "cell_type": "markdown",
   "id": "bbb0f4ee",
   "metadata": {},
   "source": [
    "### Problem 2"
   ]
  },
  {
   "cell_type": "markdown",
   "id": "3ce6e0df",
   "metadata": {},
   "source": [
    "When you purchased your house, you took out a 35-year annual payment mortgage with\n",
    "an interest rate of $10\\%$ per year. The annual payment on the mortgage is $\\$12,500$. You\n",
    "have just made a payment and have now decided to pay the mortgage off by repaying the\n",
    "outstanding balance. What is the payoff amount if:\n",
    "\n",
    "(a) You have lived in the house for 15 years? (So there are 15 years left of the mortgage)\n",
    "\n",
    "Assign `q2a` to your answer."
   ]
  },
  {
   "cell_type": "code",
   "execution_count": null,
   "id": "62247e88",
   "metadata": {},
   "outputs": [],
   "source": [
    "q2a = ...\n",
    "q2a"
   ]
  },
  {
   "cell_type": "markdown",
   "id": "ae45cf60",
   "metadata": {},
   "source": [
    "(b) You have lived in the house for 19 years? (So there are 11 years left on the mortgage)\n",
    "\n",
    "Assign `q2b` to your answer."
   ]
  },
  {
   "cell_type": "code",
   "execution_count": null,
   "id": "8e0a918f",
   "metadata": {},
   "outputs": [],
   "source": [
    "q2b = ...\n",
    "q2b"
   ]
  },
  {
   "cell_type": "markdown",
   "id": "4353c424",
   "metadata": {},
   "source": [
    "(c) You have lived in the house for 15 years and you decide to pay off the mortgage\n",
    "immediately before the 15th payment is due?\n",
    "\n",
    "Assign `q2c` to your answer."
   ]
  },
  {
   "cell_type": "code",
   "execution_count": null,
   "id": "6dafa69e",
   "metadata": {},
   "outputs": [],
   "source": [
    "q2c = ...\n",
    "q2c"
   ]
  },
  {
   "cell_type": "markdown",
   "id": "c25f51d7",
   "metadata": {},
   "source": [
    "### Problem 3\n",
    "\n",
    "You work for a pharmaceutical company that has developed a new drug. The patent on the drug will last $20$ years. You expect that the drug's profits will be $\\$1.5$ million in its first year and this amount will grow at a rate of $5\\%$ per year for the next $19$ years. Once the patent expires, other pharmaceutical companies will be able to produce the same drug and competition will likely drive profits to zero. What is the present value of the new drug if the interest rate is $8\\%$ per year?"
   ]
  },
  {
   "cell_type": "code",
   "execution_count": 3,
   "id": "2a07970b",
   "metadata": {},
   "outputs": [],
   "source": [
    "q3 = ...\n",
    "q3"
   ]
  },
  {
   "cell_type": "markdown",
   "id": "13e9985e",
   "metadata": {},
   "source": [
    "### Problem 4\n",
    "Suppose you currently have $\\$10,000$ in your savings account, and your bank pays interest at a rate of $0$.$1\\%$ per month. If you make no further deposits or withdrawals, how much will you have in the account in $17$ years?"
   ]
  },
  {
   "cell_type": "code",
   "execution_count": 4,
   "id": "ae71e860",
   "metadata": {},
   "outputs": [],
   "source": [
    "q4 = ...\n",
    "q4"
   ]
  },
  {
   "cell_type": "markdown",
   "id": "ff61ec72",
   "metadata": {},
   "source": [
    "### Problem 5"
   ]
  },
  {
   "cell_type": "code",
   "execution_count": 5,
   "id": "617e4509",
   "metadata": {},
   "outputs": [],
   "source": [
    "# Double click to edit\n",
    "# Press M on the cell to change to Markdown"
   ]
  },
  {
   "cell_type": "markdown",
   "id": "1b23ddc0",
   "metadata": {},
   "source": [
    "### Problem 6"
   ]
  },
  {
   "cell_type": "code",
   "execution_count": 6,
   "id": "9c346ae7",
   "metadata": {},
   "outputs": [],
   "source": [
    "# Double click to edit\n",
    "# Press M on the cell to change to Markdown"
   ]
  },
  {
   "cell_type": "markdown",
   "id": "b2be6b41",
   "metadata": {},
   "source": [
    "### Problem 7"
   ]
  },
  {
   "cell_type": "code",
   "execution_count": 7,
   "id": "74eb69fa",
   "metadata": {},
   "outputs": [],
   "source": [
    "# Double click to edit\n",
    "# Press M on the cell to change to Markdown"
   ]
  },
  {
   "cell_type": "markdown",
   "id": "86cc3d93",
   "metadata": {},
   "source": [
    "### Problem 8"
   ]
  },
  {
   "cell_type": "code",
   "execution_count": 8,
   "id": "278c7710",
   "metadata": {},
   "outputs": [],
   "source": [
    "# Double click to edit\n",
    "# Press M on the cell to change to Markdown"
   ]
  },
  {
   "cell_type": "markdown",
   "id": "f7a00436",
   "metadata": {},
   "source": [
    "### *Optional Bonus Problem 9 - Create and Solve*"
   ]
  },
  {
   "cell_type": "code",
   "execution_count": 9,
   "id": "f19be1e0",
   "metadata": {},
   "outputs": [],
   "source": [
    "# Double click to edit\n",
    "# Press M on the cell to change to Markdown"
   ]
  }
 ],
 "metadata": {
  "kernelspec": {
   "display_name": "Python 3 (ipykernel)",
   "language": "python",
   "name": "python3"
  },
  "language_info": {
   "codemirror_mode": {
    "name": "ipython",
    "version": 3
   },
   "file_extension": ".py",
   "mimetype": "text/x-python",
   "name": "python",
   "nbconvert_exporter": "python",
   "pygments_lexer": "ipython3",
   "version": "3.9.15"
  }
 },
 "nbformat": 4,
 "nbformat_minor": 5
}
