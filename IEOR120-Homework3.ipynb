{
 "cells": [
  {
   "cell_type": "markdown",
   "id": "fc2ebbcc",
   "metadata": {},
   "source": [
    "# INDENG 120: Homework 3\n",
    "## Due: Thursday, _____, 11:59 PM"
   ]
  },
  {
   "cell_type": "markdown",
   "id": "2ca6b8c3",
   "metadata": {},
   "source": [
    "### Welcome to INDENG 120 Homework 3!\n",
    "\n",
    "This homework covers:\n",
    "- Lecture 6: Time Value of Money\n",
    "- Lecture 7: NPV Calculations\n",
    "- Sections: 4.1 - 4.3, 4.4 - 4.9\n",
    "\n",
    "Partial credit will be awarded for both logic and effort. \\\n",
    "*Grading will be completed via Gradescope.*\n",
    "\n",
    "<!-- In this notebook, you will learn how to:\n",
    " 1. Navigate Jupyter Notebooks (like this one)\n",
    " 2. Write and edit text and code cells\n",
    " 3. Use the `pandas` library \n",
    " 4. Load in data and manipulate it using `pandas` -->"
   ]
  },
  {
   "cell_type": "markdown",
   "id": "f195d90a",
   "metadata": {},
   "source": [
    "### Problem 1"
   ]
  },
  {
   "cell_type": "markdown",
   "id": "913576bd",
   "metadata": {},
   "source": [
    "You have just taken out a five-year loan from a bank to buy an engagement ring. The ring\n",
    "costs $\\$8000$.You plan to put down $\\$3,000$ and borrow $\\$5,000$. You will need to make\n",
    "annual payments of $\\$1,100$ at the end of each year. Show the timeline of the loan from your perspective. How would the timeline differ if you created it from the banks perspective?\n",
    "Show the timeline from both these perspectives."
   ]
  },
  {
   "cell_type": "markdown",
   "id": "568d2944",
   "metadata": {},
   "source": [
    "_Type your answer here, replacing this text._"
   ]
  },
  {
   "cell_type": "markdown",
   "id": "bbb0f4ee",
   "metadata": {},
   "source": [
    "### Problem 2"
   ]
  },
  {
   "cell_type": "markdown",
   "id": "e4189868",
   "metadata": {},
   "source": [
    "Suppose Bank One offers a risk-free interest rate of 8.0% on both savings and loans and\n",
    "Bank Enn offers a risk-free interest rate of 7.5% on both savings and loans.\n",
    "\n",
    "(a) What arbitrage opportunity is available? Select one.\n",
    "\n",
    "\n",
    "   A. Take a loan from Bank Enn at 7.5% and save the money in Bank One\n",
    "at 8.0%.\n",
    "\n",
    "   B. Take a loan from Bank One at 8.0% and save the money in Bank Enn at 7.5%.\n",
    "   \n",
    "   C. Take a loan from Bank One at 7.5% and save the money in Bank One at 8.0%.\n",
    "   \n",
    "   D. Save at both banks.\n",
    "   \n",
    " Assign `q2a` to the letter of your answer."
   ]
  },
  {
   "cell_type": "code",
   "execution_count": null,
   "id": "4fb9bb9a",
   "metadata": {},
   "outputs": [],
   "source": [
    "q2a = ...\n",
    "q2a"
   ]
  },
  {
   "cell_type": "markdown",
   "id": "4b3d487b",
   "metadata": {},
   "source": [
    "(b) Which bank would experience a surge in demand for loans? Which bank would expe-\n",
    "rience a surge in deposits? Select one.\n",
    "\n",
    "   A. Bank One would experience a surge in the demand for loans, while Bank Enn.\n",
    "   \n",
    "   B. Bank One would experience a surge in deposits, while Bank Enn would\n",
    "receive a surge in loans.\n",
    "\n",
    "   C. Bank One would experience a surge in the demand for deposits, as will Bank Enn.\n",
    "   \n",
    "   D. Bank One would experience a surge in the demand for loans, as will Bank Enn.\n",
    "  \n",
    " Assign `q2b` to the letter of your answer."
   ]
  },
  {
   "cell_type": "code",
   "execution_count": null,
   "id": "7f5ab4f3",
   "metadata": {},
   "outputs": [],
   "source": [
    "q2b = ...\n",
    "q2b"
   ]
  },
  {
   "cell_type": "markdown",
   "id": "ef90b9d0",
   "metadata": {},
   "source": [
    "(c) What would you expect to happen to the interest rates the two banks are offering?\n",
    "Select one.\n",
    "\n",
    "   A. Both banks would increase their interest rates.\n",
    "   \n",
    "   B. Bank One would increase its loan rate, and/or Bank Enn would decrease its\n",
    "savings rate.\n",
    "\n",
    "   C. Bank One would decrease their interest rates, and Bank Enn would\n",
    "increase its rates.\n",
    "\n",
    "   D. Both banks would decrease their interest rates.\n",
    "   \n",
    " Assign `q2c` to the letter of your answer."
   ]
  },
  {
   "cell_type": "code",
   "execution_count": null,
   "id": "15760432",
   "metadata": {},
   "outputs": [],
   "source": [
    "q2c = ...\n",
    "q2c"
   ]
  },
  {
   "cell_type": "code",
   "execution_count": null,
   "id": "ee3f94ed",
   "metadata": {},
   "outputs": [],
   "source": []
  },
  {
   "cell_type": "markdown",
   "id": "c25f51d7",
   "metadata": {},
   "source": [
    "### Problem 3\n",
    "\n",
    "You have just received a windfall from an investment you made in a friend's business. He will be paying you $ \\$ 22,866$ at the end of the year, $ \\$ 50,732$ at the end of the following year, and $ \\$ 73,598$ at the end of the year after that (three years from today). The interest rate is $2.75 \\%$ per year.\n",
    "\n",
    "(a) What is the present value of your windfall?"
   ]
  },
  {
   "cell_type": "code",
   "execution_count": 3,
   "id": "2a07970b",
   "metadata": {},
   "outputs": [],
   "source": [
    "q3a = ...\n",
    "q3a"
   ]
  },
  {
   "cell_type": "markdown",
   "id": "ccd08686",
   "metadata": {},
   "source": [
    "(b) What is the future value of your windfall in three years (on the date of the last pay-ment)? "
   ]
  },
  {
   "cell_type": "code",
   "execution_count": null,
   "id": "96157e6a",
   "metadata": {},
   "outputs": [],
   "source": [
    "q3b = ...\n",
    "q3b"
   ]
  },
  {
   "cell_type": "markdown",
   "id": "13e9985e",
   "metadata": {},
   "source": [
    "### Problem 4\n",
    "\n",
    "The Xia Corporation is a company whose sole assets are $\\$100,000$ in cash and three projects\n",
    "that it will undertake. The projects are risk-free and have the following cash flows. Xia\n",
    "plans to invest any unused cash today at the risk-free interest rate of $12.2\\%$. In one year, all\n",
    "cash will be paid to investors and the company will be shut down.\n",
    "\n",
    "(a) What is the NPV of each project? What projects should Xia undertake and how much cash should it retain?"
   ]
  },
  {
   "cell_type": "code",
   "execution_count": null,
   "id": "f0c4b948",
   "metadata": {},
   "outputs": [],
   "source": [
    "q4a = ...\n",
    "q4a"
   ]
  },
  {
   "cell_type": "markdown",
   "id": "8147f920",
   "metadata": {},
   "source": [
    "(b) What is the total value of Xia's assets (projects and cash) today?"
   ]
  },
  {
   "cell_type": "code",
   "execution_count": null,
   "id": "9208069d",
   "metadata": {},
   "outputs": [],
   "source": [
    "q4b = ...\n",
    "q4b"
   ]
  },
  {
   "cell_type": "markdown",
   "id": "0134ffec",
   "metadata": {},
   "source": [
    "(c) What cash flows will the investors in Xia receive? Based on these cash flows, what is the value of Xia today?"
   ]
  },
  {
   "cell_type": "code",
   "execution_count": null,
   "id": "e1c4f22e",
   "metadata": {},
   "outputs": [],
   "source": [
    "q4c = ...\n",
    "q4c"
   ]
  },
  {
   "cell_type": "markdown",
   "id": "72f3ee76",
   "metadata": {},
   "source": [
    "(d) Suppose Xia pays any unused cash to investors today, rather than investing it. What are the cash flows to investors in this case? Based on these cash flows, what is the value of Xia today?"
   ]
  },
  {
   "cell_type": "code",
   "execution_count": null,
   "id": "2fd389f7",
   "metadata": {},
   "outputs": [],
   "source": [
    "q4d = ...\n",
    "q4d"
   ]
  },
  {
   "cell_type": "markdown",
   "id": "4b63e9c4",
   "metadata": {},
   "source": [
    "(e) Explain the relationship between your answers in (b), (c), and (d)."
   ]
  },
  {
   "cell_type": "markdown",
   "id": "f4dd0cb4",
   "metadata": {},
   "source": [
    "_Type your answer here, replacing this text._"
   ]
  },
  {
   "cell_type": "markdown",
   "id": "ff61ec72",
   "metadata": {},
   "source": [
    "### Problem 5"
   ]
  },
  {
   "cell_type": "markdown",
   "id": "a54188ec",
   "metadata": {},
   "source": []
  },
  {
   "cell_type": "code",
   "execution_count": 5,
   "id": "617e4509",
   "metadata": {},
   "outputs": [],
   "source": [
    "# Double click to edit\n",
    "# Press M on the cell to change to Markdown"
   ]
  },
  {
   "cell_type": "markdown",
   "id": "1b23ddc0",
   "metadata": {},
   "source": [
    "### Problem 6"
   ]
  },
  {
   "cell_type": "code",
   "execution_count": 6,
   "id": "9c346ae7",
   "metadata": {},
   "outputs": [],
   "source": [
    "# Double click to edit\n",
    "# Press M on the cell to change to Markdown"
   ]
  },
  {
   "cell_type": "markdown",
   "id": "b2be6b41",
   "metadata": {},
   "source": [
    "### Problem 7"
   ]
  },
  {
   "cell_type": "markdown",
   "id": "f0a74d5a",
   "metadata": {},
   "source": [
    "Consider the following alternatives:\n",
    "><br>(i) <b>100 dollars</b> received in 4 year\n",
    "<br>\n",
    "(ii) <b>200 dollars</b> received in 8 years\n",
    "<br>\n",
    "(iii) <b>310 dollars</b> received in 16 years"
   ]
  },
  {
   "cell_type": "markdown",
   "id": "e8dccfdd",
   "metadata": {},
   "source": [
    "(a) Rank the alternatives from most valuable to least valuable if the interest rate is 10%\n",
    "per year."
   ]
  },
  {
   "cell_type": "markdown",
   "id": "5c62c0b6",
   "metadata": {},
   "source": [
    "(b) What is your ranking if the interest rate is 5% per year?"
   ]
  },
  {
   "cell_type": "markdown",
   "id": "40790dd5",
   "metadata": {},
   "source": [
    "(c) What is your ranking if the interest rate is 20% per year?"
   ]
  },
  {
   "cell_type": "markdown",
   "id": "f7a00436",
   "metadata": {},
   "source": [
    "### *Optional Bonus Problem 8 - Create and Solve*"
   ]
  },
  {
   "cell_type": "code",
   "execution_count": 8,
   "id": "f19be1e0",
   "metadata": {},
   "outputs": [],
   "source": [
    "# Double click to edit\n",
    "# Press M on the cell to change to Markdown"
   ]
  }
 ],
 "metadata": {
  "kernelspec": {
   "display_name": "Python 3 (ipykernel)",
   "language": "python",
   "name": "python3"
  },
  "language_info": {
   "codemirror_mode": {
    "name": "ipython",
    "version": 3
   },
   "file_extension": ".py",
   "mimetype": "text/x-python",
   "name": "python",
   "nbconvert_exporter": "python",
   "pygments_lexer": "ipython3",
   "version": "3.9.15"
  }
 },
 "nbformat": 4,
 "nbformat_minor": 5
}
