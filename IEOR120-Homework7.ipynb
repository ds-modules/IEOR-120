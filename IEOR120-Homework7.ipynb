{
 "cells": [
  {
   "cell_type": "markdown",
   "id": "fc2ebbcc",
   "metadata": {},
   "source": [
    "# INDENG 120: Homework 7\n",
    "## Due: Thursday, _____, 11:59 PM"
   ]
  },
  {
   "cell_type": "markdown",
   "id": "2ca6b8c3",
   "metadata": {},
   "source": [
    "### Welcome to INDENG 120 Homework 6!\n",
    "\n",
    "This homework covers:\n",
    "**DOUBLE CHECK TODO**\n",
    "- ????\n",
    "\n",
    "Partial credit will be awarded for both logic and effort. \\\n",
    "*Grading will be completed via Gradescope.*\n",
    "\n",
    "<!-- In this notebook, you will learn how to:\n",
    " 1. Navigate Jupyter Notebooks (like this one)\n",
    " 2. Write and edit text and code cells\n",
    " 3. Use the `pandas` library \n",
    " 4. Load in data and manipulate it using `pandas` -->"
   ]
  },
  {
   "cell_type": "markdown",
   "id": "f195d90a",
   "metadata": {},
   "source": [
    "### Problem 1"
   ]
  },
  {
   "cell_type": "markdown",
   "id": "f21e1c16",
   "metadata": {},
   "source": [
    "Bill Clinton was reportedly paid $\\$10.50$  million to write his book My Life. Suppose the book took 4 years to write. In the time he spent writing, Clinton could have been paid to make speeches. Given his popularity, assume that he could have earned $\\$8$ million a year (paid\n",
    "at the end of the year) for speaking instead of writing. Assume his cost of capital is $10.0$\\% per year.\n",
    "\n",
    "(a) What is the NPV of agreeing to write the book in million (ignoring any royalty payments)?\n",
    "\n",
    "*Assign q1a to your answer*"
   ]
  },
  {
   "cell_type": "code",
   "execution_count": null,
   "id": "27a87401",
   "metadata": {},
   "outputs": [],
   "source": [
    "q1a = ...\n",
    "q1a"
   ]
  },
  {
   "cell_type": "markdown",
   "id": "2862c138",
   "metadata": {},
   "source": [
    "(b) Assume that, once the book is finished, it is expected to generate royalties of $\\$5$ million in the first year (at the end of the first year) and these royalties are expected to decrease at a rate of $30$\\% per year in perpetuity. What is the NPV of the book with the royalty payments (in million)?\n",
    "\n",
    "*Assign q1b to your answer*"
   ]
  },
  {
   "cell_type": "code",
   "execution_count": null,
   "id": "13d38e8c",
   "metadata": {},
   "outputs": [],
   "source": [
    "q1b = ...\n",
    "q1b"
   ]
  },
  {
   "cell_type": "markdown",
   "id": "bbb0f4ee",
   "metadata": {},
   "source": [
    "### Problem 2"
   ]
  },
  {
   "cell_type": "markdown",
   "id": "2b595e4d",
   "metadata": {},
   "source": [
    "You are considering an investment in a clothes distributor. The company needs $\\$110,000$ today and expects to repay you $\\$130,000$ in a year from now. What is the IRR of this investment opportunity? Given the riskiness of the investment opportunity, your cost of capital is $15\\%$. What does the IRR rule say about whether you should invest?"
   ]
  },
  {
   "cell_type": "markdown",
   "id": "36d0f7c4",
   "metadata": {},
   "source": [
    "*Type your answer here, replacing this text.*"
   ]
  },
  {
   "cell_type": "markdown",
   "id": "c25f51d7",
   "metadata": {},
   "source": [
    "### Problem 3"
   ]
  },
  {
   "cell_type": "code",
   "execution_count": 5,
   "id": "a5f78919",
   "metadata": {},
   "outputs": [],
   "source": [
    "# Double click to edit\n",
    "# Press M on the cell to change to Markdown"
   ]
  },
  {
   "cell_type": "markdown",
   "id": "13e9985e",
   "metadata": {},
   "source": [
    "### Problem 4"
   ]
  },
  {
   "cell_type": "code",
   "execution_count": 5,
   "id": "f080a50b",
   "metadata": {},
   "outputs": [],
   "source": [
    "# Double click to edit\n",
    "# Press M on the cell to change to Markdown"
   ]
  },
  {
   "cell_type": "markdown",
   "id": "ff61ec72",
   "metadata": {},
   "source": [
    "### Problem 5"
   ]
  },
  {
   "cell_type": "code",
   "execution_count": 5,
   "id": "617e4509",
   "metadata": {},
   "outputs": [],
   "source": [
    "# Double click to edit\n",
    "# Press M on the cell to change to Markdown"
   ]
  },
  {
   "cell_type": "markdown",
   "id": "1b23ddc0",
   "metadata": {},
   "source": [
    "### Problem 6"
   ]
  },
  {
   "cell_type": "code",
   "execution_count": 6,
   "id": "9c346ae7",
   "metadata": {},
   "outputs": [],
   "source": [
    "# Double click to edit\n",
    "# Press M on the cell to change to Markdown"
   ]
  },
  {
   "cell_type": "markdown",
   "id": "b2be6b41",
   "metadata": {},
   "source": [
    "### Problem 7"
   ]
  },
  {
   "cell_type": "code",
   "execution_count": 7,
   "id": "74eb69fa",
   "metadata": {},
   "outputs": [],
   "source": [
    "# Double click to edit\n",
    "# Press M on the cell to change to Markdown"
   ]
  },
  {
   "cell_type": "markdown",
   "id": "f7a00436",
   "metadata": {},
   "source": [
    "### *Optional Bonus Problem 8 - Create and Solve*"
   ]
  },
  {
   "cell_type": "code",
   "execution_count": 9,
   "id": "f19be1e0",
   "metadata": {},
   "outputs": [],
   "source": [
    "# Double click to edit\n",
    "# Press M on the cell to change to Markdown"
   ]
  }
 ],
 "metadata": {
  "kernelspec": {
   "display_name": "Python 3 (ipykernel)",
   "language": "python",
   "name": "python3"
  },
  "language_info": {
   "codemirror_mode": {
    "name": "ipython",
    "version": 3
   },
   "file_extension": ".py",
   "mimetype": "text/x-python",
   "name": "python",
   "nbconvert_exporter": "python",
   "pygments_lexer": "ipython3",
   "version": "3.9.15"
  }
 },
 "nbformat": 4,
 "nbformat_minor": 5
}
