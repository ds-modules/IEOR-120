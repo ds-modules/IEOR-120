{
 "cells": [
  {
   "cell_type": "markdown",
   "id": "960d8cb7",
   "metadata": {},
   "source": [
    "# INDENG 120: Homework 1\n",
    "## Due: Thursday, _____, 11:59 PM"
   ]
  },
  {
   "cell_type": "markdown",
   "id": "be9cfbb2",
   "metadata": {},
   "source": [
    "### Welcome to INDENG 120 Homework 1!\n",
    "\n",
    "This homework covers:\n",
    "- Lecture 2: Types of Firms, Ownership\n",
    "- Lecture 3: Intro to Financial Statements.\n",
    "- Sections 1.1 - 1.3, 2.1 - 2.4\n",
    "\n",
    "Partial credit will be awarded for both logic and effort. \\\n",
    "*Grading will be completed via Gradescope.*\n",
    "\n",
    "<!-- In this notebook, you will learn how to:\n",
    " 1. Navigate Jupyter Notebooks (like this one)\n",
    " 2. Write and edit text and code cells\n",
    " 3. Use the `pandas` library \n",
    " 4. Load in data and manipulate it using `pandas` -->"
   ]
  },
  {
   "cell_type": "markdown",
   "id": "9e94dc2c",
   "metadata": {},
   "source": [
    "### Problem 1"
   ]
  },
  {
   "cell_type": "markdown",
   "id": "3fbbd211",
   "metadata": {},
   "source": [
    "You are a shareholder in an **C corporation**. The corporation earns $\\$2.09$ per share before taxes. Once it has paid taxes it will distribute the rest of its earnings to you as a dividend.\n",
    "The corporate tax rate is $25\\%$ and the personal tax rate (on both dividend and non-dividend) is $20\\%$. How much is left for you **after all taxes are paid?** Assign `q1` to your answer.\n",
    "1. How much remains for you per share? (Round to the nearest cent)"
   ]
  },
  {
   "cell_type": "code",
   "execution_count": 2,
   "id": "a4f62905",
   "metadata": {},
   "outputs": [
    {
     "data": {
      "text/plain": [
       "Ellipsis"
      ]
     },
     "execution_count": 2,
     "metadata": {},
     "output_type": "execute_result"
    }
   ],
   "source": [
    "q1 = ...\n",
    "q1"
   ]
  },
  {
   "cell_type": "markdown",
   "id": "92ed3981",
   "metadata": {},
   "source": [
    "### Problem 2"
   ]
  },
  {
   "cell_type": "markdown",
   "id": "d023dfea",
   "metadata": {},
   "source": [
    "Corporate managers work for the owners of the corporation. Consequently, they should make decisions that are in the interests of the owners,rather than in their own interests. What strategies are available to shareholders to help ensure that managers are motivated to act\n",
    "this way? Assign the variable `q2` to a list of all of the below statements that are true.\n",
    "\n",
    "\n",
    "<br>\n",
    "A. Mount hostile takeovers\n",
    "<br>\n",
    "B. Write contracts that ensure that the interests of the managers and shareholders are closely aligned\n",
    "<br>\n",
    "C. Ensure that employees are paid with company stock and/or stock options\n",
    "<br>\n",
    "D. Ensure that under-performing managers are fired\n",
    "<br>\n",
    "E. Ensure that employees are paid a percentage of the company’s net income\n",
    "\n",
    "    \n",
    "**Note:** Your answer should look like `q2 = ['A', 'B']`"
   ]
  },
  {
   "cell_type": "code",
   "execution_count": null,
   "id": "de2820da",
   "metadata": {},
   "outputs": [],
   "source": [
    "q2 = ...\n",
    "q2"
   ]
  },
  {
   "cell_type": "markdown",
   "id": "f12f48e2",
   "metadata": {},
   "source": [
    "### Problem 3\n",
    "Find online the annual 10-K report for Costco Wholesale Corporation **(COST)** for August 29, 2021. Answer the following questions from the balance sheet:\n"
   ]
  },
  {
   "cell_type": "markdown",
   "id": "ee46ad34",
   "metadata": {},
   "source": [
    "(a) How much cash did Costco have at the end of the fiscal year?"
   ]
  },
  {
   "cell_type": "code",
   "execution_count": null,
   "id": "f7045cd2",
   "metadata": {},
   "outputs": [],
   "source": [
    "q3a = ...\n",
    "q3a"
   ]
  },
  {
   "cell_type": "markdown",
   "id": "c0e1c450",
   "metadata": {},
   "source": [
    "(b) What were Costco’s total assets?"
   ]
  },
  {
   "cell_type": "code",
   "execution_count": 5,
   "id": "1de1ffdc",
   "metadata": {},
   "outputs": [],
   "source": [
    "q3b = ...\n",
    "q3b"
   ]
  },
  {
   "cell_type": "markdown",
   "id": "2c61be45",
   "metadata": {},
   "source": [
    "(c) What were Costco’s total liabilities?"
   ]
  },
  {
   "cell_type": "code",
   "execution_count": null,
   "id": "d35dbb3c",
   "metadata": {},
   "outputs": [],
   "source": [
    "q3c = ...\n",
    "q3c"
   ]
  },
  {
   "cell_type": "markdown",
   "id": "88ca171c",
   "metadata": {},
   "source": [
    "(d) How much long-term debt did Costco have?"
   ]
  },
  {
   "cell_type": "code",
   "execution_count": null,
   "id": "5f32a0bd",
   "metadata": {},
   "outputs": [],
   "source": [
    "q3d = ...\n",
    "q3d"
   ]
  },
  {
   "cell_type": "markdown",
   "id": "040e5317",
   "metadata": {},
   "source": [
    "(e) What was the book value of Costco equity?"
   ]
  },
  {
   "cell_type": "code",
   "execution_count": null,
   "id": "39eeaced",
   "metadata": {},
   "outputs": [],
   "source": [
    "q3e = ...\n",
    "q3e"
   ]
  },
  {
   "cell_type": "markdown",
   "id": "db3e7252",
   "metadata": {},
   "source": [
    "### Problem 4\n",
    "\n",
    "(a) What four financial statements can be found in a firm's 10-K filing? List them below."
   ]
  },
  {
   "cell_type": "markdown",
   "id": "aaff3f28",
   "metadata": {},
   "source": [
    "*replace this text*"
   ]
  },
  {
   "cell_type": "markdown",
   "id": "bc38135e",
   "metadata": {},
   "source": [
    "(b) What checks are there on the accuracy of these statements? Select the best choice below.\n",
    "<br/>\n",
    "\n",
    "1. The accuracy of the firm’s financial statements is certified by the firm’s board of\n",
    "directors, which is the only required check.\n",
    "<br/>\n",
    "2. Financial statements in form 10-K are required to be audited by a\n",
    "neutral third party, who checks them and ensures that the financial\n",
    "statements are prepared according to GAAP and that the information\n",
    "contained is reliable.\n",
    "<br/>\n",
    "3. It is up to each investor to certify the accuracy of the financial statements.\n",
    "<br/>\n",
    "4. Financial statements are always sufficiently accurate so no checks are needed.\n",
    "<br/>\n",
    "\n",
    "**Note:** Your answer should look like `q4b = 1`"
   ]
  },
  {
   "cell_type": "code",
   "execution_count": null,
   "id": "f9b07e8f",
   "metadata": {},
   "outputs": [],
   "source": [
    "q4b = ...\n",
    "q4b"
   ]
  },
  {
   "cell_type": "markdown",
   "id": "d70aa8ab",
   "metadata": {},
   "source": [
    "### Problem 5"
   ]
  },
  {
   "cell_type": "code",
   "execution_count": 7,
   "id": "1c8e48ff",
   "metadata": {},
   "outputs": [],
   "source": [
    "# Double click to edit\n",
    "# Press M on the cell to change to Markdown"
   ]
  },
  {
   "cell_type": "markdown",
   "id": "9c335fad",
   "metadata": {},
   "source": [
    "(a) What were Mydeco’s gross margins each year? (2015 to 2019)"
   ]
  },
  {
   "cell_type": "markdown",
   "id": "4b256558",
   "metadata": {},
   "source": [
    "Double click to edit and put your answer here"
   ]
  },
  {
   "cell_type": "markdown",
   "id": "1fbde94a",
   "metadata": {},
   "source": [
    "### Problem 6"
   ]
  },
  {
   "cell_type": "code",
   "execution_count": 8,
   "id": "cb205f67",
   "metadata": {},
   "outputs": [],
   "source": [
    "# Double click to edit\n",
    "# Press M on the cell to change to Markdown"
   ]
  },
  {
   "cell_type": "markdown",
   "id": "b13a1386",
   "metadata": {},
   "source": [
    "### Problem 7"
   ]
  },
  {
   "cell_type": "markdown",
   "id": "3d42fdcd",
   "metadata": {},
   "source": [
    "You have decided to form a new start-up company developing applications for the iPhone.\n",
    "Match the three distinct types of financial decisions you have to make to each scenario.\n",
    "<br>\n",
    "><b>Hint:</b> choose from cash management decision, financing decision, investment decision\n"
   ]
  },
  {
   "cell_type": "markdown",
   "id": "e76570f9",
   "metadata": {},
   "source": [
    "<br>\n",
    "(a) Determining which type of iPhone application projects will offer your company a positive net present value, and therefore are the types of projects your company should develop.</br>\n",
    "<br>\n",
    "(b) Determining how to fund your iPhone application investments and what mix of debt and equity your company will have.</br>\n",
    "<br>\n",
    "(c) Ensuring that the company has the necessary funds to make investments, pay interest on loans, and pay your employees.</br>\n",
    "<br>"
   ]
  },
  {
   "cell_type": "code",
   "execution_count": null,
   "id": "02e00db5",
   "metadata": {},
   "outputs": [],
   "source": [
    "answer_a = ...\n",
    "answer_b = ...\n",
    "answer_c = ..."
   ]
  },
  {
   "cell_type": "markdown",
   "id": "4b23a3dc",
   "metadata": {},
   "source": [
    "### Problem 8"
   ]
  },
  {
   "cell_type": "markdown",
   "id": "f67bdfae",
   "metadata": {},
   "source": [
    "Considering the following potential events that might have occurred to Global Conglomerate on December 30, 2018. For each one, circle how line items in Global’s balance sheet would be affected (increase, decrease, or not change) and by how much. Also indicate the change to Global’s book value of equity."
   ]
  },
  {
   "cell_type": "markdown",
   "id": "9fbbd251",
   "metadata": {},
   "source": [
    "(a) Global used $17 million of its available cash to repay $17 million of its long-term debt."
   ]
  },
  {
   "cell_type": "markdown",
   "id": "d65c8be1",
   "metadata": {},
   "source": [
    "(b) A warehouse fire destroyed $4 million worth of uninsured inventory."
   ]
  },
  {
   "cell_type": "markdown",
   "id": "a1b748e3",
   "metadata": {},
   "source": [
    "(c) Global used $6 million in cash and $2 million in new long-term debt to purchase a $8\n",
    "million building."
   ]
  },
  {
   "cell_type": "markdown",
   "id": "2a2f778f",
   "metadata": {},
   "source": [
    "(d) A large customer owing $3 million for products it already received declared bankruptcy,\n",
    "leaving no possibility that Global would ever receive payment."
   ]
  },
  {
   "cell_type": "markdown",
   "id": "e4f410cc",
   "metadata": {},
   "source": [
    "(e) Global’s engineers discover a new manufacturing process that will cut the cost of its\n",
    "flagship product by over 50%. Select one."
   ]
  },
  {
   "cell_type": "markdown",
   "id": "17f24f7b",
   "metadata": {},
   "source": [
    "(f) A key competitor announces a radical new pricing policy that will drastically undercut\n",
    "Global’s prices. Select one."
   ]
  },
  {
   "cell_type": "markdown",
   "id": "adb440b1",
   "metadata": {},
   "source": [
    "### Problem 9"
   ]
  },
  {
   "cell_type": "code",
   "execution_count": 11,
   "id": "10545712",
   "metadata": {},
   "outputs": [],
   "source": [
    "# Double click to edit\n",
    "# Press M on the cell to change to Markdown"
   ]
  }
 ],
 "metadata": {
  "kernelspec": {
   "display_name": "Python 3 (ipykernel)",
   "language": "python",
   "name": "python3"
  },
  "language_info": {
   "codemirror_mode": {
    "name": "ipython",
    "version": 3
   },
   "file_extension": ".py",
   "mimetype": "text/x-python",
   "name": "python",
   "nbconvert_exporter": "python",
   "pygments_lexer": "ipython3",
   "version": "3.9.15"
  },
  "vscode": {
   "interpreter": {
    "hash": "4dbb7e57341e5407654686349200712733e22bdd205a518b2f54ead6a7867df8"
   }
  }
 },
 "nbformat": 4,
 "nbformat_minor": 5
}
