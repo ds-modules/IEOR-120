{
 "cells": [
  {
   "cell_type": "markdown",
   "id": "960d8cb7",
   "metadata": {},
   "source": [
    "# INDENG 120: Homework 1\n",
    "## Due: Thursday, _____, 11:59 PM"
   ]
  },
  {
   "cell_type": "markdown",
   "id": "be9cfbb2",
   "metadata": {},
   "source": [
    "### Welcome to INDENG 120 Homework 1!\n",
    "\n",
    "This homework covers:\n",
    "- Lecture 2: Types of Firms, Ownership\n",
    "- Lecture 3: Intro to Financial Statements.\n",
    "- Sections 1.1 - 1.3, 2.1 - 2.4\n",
    "\n",
    "Partial credit will be awarded for both logic and effort. \\\n",
    "*Grading will be completed via Gradescope.*\n",
    "\n",
    "<!-- In this notebook, you will learn how to:\n",
    " 1. Navigate Jupyter Notebooks (like this one)\n",
    " 2. Write and edit text and code cells\n",
    " 3. Use the `pandas` library \n",
    " 4. Load in data and manipulate it using `pandas` -->"
   ]
  },
  {
   "cell_type": "markdown",
   "id": "9e94dc2c",
   "metadata": {},
   "source": [
    "### Problem 1"
   ]
  },
  {
   "cell_type": "markdown",
   "id": "3fbbd211",
   "metadata": {},
   "source": [
    "You are a shareholder in an **C corporation**. The corporation earns $\\$2.09$ per share before taxes. Once it has paid taxes it will distribute the rest of its earnings to you as a dividend.\n",
    "The corporate tax rate is $25\\%$ and the personal tax rate (on both dividend and non-dividend) is $20\\%$. How much is left for you **after all taxes are paid?**\n",
    "1. How much remains for you per share? (Round to the nearest cent)"
   ]
  },
  {
   "cell_type": "code",
   "execution_count": null,
   "id": "a4f62905",
   "metadata": {},
   "outputs": [],
   "source": [
    "answer_q1 = ...\n",
    "answer_q1"
   ]
  },
  {
   "cell_type": "markdown",
   "id": "92ed3981",
   "metadata": {},
   "source": [
    "### Problem 2"
   ]
  },
  {
   "cell_type": "markdown",
   "id": "d023dfea",
   "metadata": {},
   "source": [
    "Corporate managers work for the owners of the corporation. Consequently, they should make decisions that are in the interests of the owners,rather than in their own interests. What strategies are available to shareholders to help ensure that managers are motivated to act\n",
    "this way? Assign the variable `q2` to a list of all of the below statements that are true.\n",
    "\n",
    "\n",
    "<br>\n",
    "A. Mount hostile takeovers\n",
    "<br>\n",
    "B. Write contracts that ensure that the interests of the managers and shareholders are closely aligned\n",
    "<br>\n",
    "C. Ensure that employees are paid with company stock and/or stock options\n",
    "<br>\n",
    "D. Ensure that under-performing managers are fired\n",
    "<br>\n",
    "E. Ensure that employees are paid a percentage of the company’s net income\n",
    "\n",
    "    \n",
    "**Note:** Your answer should look like `q2 = ['A', 'B']`"
   ]
  },
  {
   "cell_type": "code",
   "execution_count": null,
   "id": "de2820da",
   "metadata": {},
   "outputs": [],
   "source": [
    "q2 = "
   ]
  },
  {
   "cell_type": "markdown",
   "id": "f12f48e2",
   "metadata": {},
   "source": [
    "### Problem 3"
   ]
  },
  {
   "cell_type": "code",
   "execution_count": 5,
   "id": "1de1ffdc",
   "metadata": {},
   "outputs": [],
   "source": [
    "# Double click to edit\n",
    "# Press M on the cell to change to Markdown"
   ]
  },
  {
   "cell_type": "markdown",
   "id": "db3e7252",
   "metadata": {},
   "source": [
    "### Problem 4"
   ]
  },
  {
   "cell_type": "code",
   "execution_count": 6,
   "id": "ca11c0e8",
   "metadata": {},
   "outputs": [],
   "source": [
    "# Double click to edit\n",
    "# Press M on the cell to change to Markdown"
   ]
  },
  {
   "cell_type": "markdown",
   "id": "d70aa8ab",
   "metadata": {},
   "source": [
    "### Problem 5"
   ]
  },
  {
   "cell_type": "code",
   "execution_count": 7,
   "id": "1c8e48ff",
   "metadata": {},
   "outputs": [],
   "source": [
    "# Double click to edit\n",
    "# Press M on the cell to change to Markdown"
   ]
  },
  {
   "cell_type": "markdown",
   "id": "9c335fad",
   "metadata": {},
   "source": [
    "(a) What were Mydeco’s gross margins each year? (2015 to 2019)"
   ]
  },
  {
   "cell_type": "markdown",
   "id": "4b256558",
   "metadata": {},
   "source": [
    "Double click to edit and put your answer here"
   ]
  },
  {
   "cell_type": "markdown",
   "id": "1fbde94a",
   "metadata": {},
   "source": [
    "### Problem 6"
   ]
  },
  {
   "cell_type": "code",
   "execution_count": 8,
   "id": "cb205f67",
   "metadata": {},
   "outputs": [],
   "source": [
    "# Double click to edit\n",
    "# Press M on the cell to change to Markdown"
   ]
  },
  {
   "cell_type": "markdown",
   "id": "b13a1386",
   "metadata": {},
   "source": [
    "### Problem 7"
   ]
  },
  {
   "cell_type": "code",
   "execution_count": 9,
   "id": "b1476930",
   "metadata": {},
   "outputs": [],
   "source": [
    "# Double click to edit\n",
    "# Press M on the cell to change to Markdown"
   ]
  },
  {
   "cell_type": "markdown",
   "id": "4b23a3dc",
   "metadata": {},
   "source": [
    "### Problem 8"
   ]
  },
  {
   "cell_type": "code",
   "execution_count": 10,
   "id": "572c1f2d",
   "metadata": {},
   "outputs": [],
   "source": [
    "# Double click to edit\n",
    "# Press M on the cell to change to Markdown"
   ]
  },
  {
   "cell_type": "markdown",
   "id": "adb440b1",
   "metadata": {},
   "source": [
    "### Problem 9"
   ]
  },
  {
   "cell_type": "code",
   "execution_count": 11,
   "id": "10545712",
   "metadata": {},
   "outputs": [],
   "source": [
    "# Double click to edit\n",
    "# Press M on the cell to change to Markdown"
   ]
  }
 ],
 "metadata": {
  "kernelspec": {
   "display_name": "Python 3 (ipykernel)",
   "language": "python",
   "name": "python3"
  },
  "language_info": {
   "codemirror_mode": {
    "name": "ipython",
    "version": 3
   },
   "file_extension": ".py",
   "mimetype": "text/x-python",
   "name": "python",
   "nbconvert_exporter": "python",
   "pygments_lexer": "ipython3",
   "version": "3.9.15"
  }
 },
 "nbformat": 4,
 "nbformat_minor": 5
}
